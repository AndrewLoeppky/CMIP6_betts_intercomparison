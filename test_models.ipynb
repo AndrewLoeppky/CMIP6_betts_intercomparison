{
 "cells": [
  {
   "cell_type": "code",
   "execution_count": 1,
   "id": "4085d5ef",
   "metadata": {},
   "outputs": [],
   "source": [
    "hot_models = ['GFDL-ESM4', 'CanESM5', 'HadGEM3-GC31-MM', 'E3SM-1-0']\n",
    "cold_models = ['INM-CM5-0', 'NorESM2-LM', 'GFDL-ESM4', 'MPI-ESM1-2-HR']"
   ]
  },
  {
   "cell_type": "code",
   "execution_count": 2,
   "id": "87b0a491",
   "metadata": {},
   "outputs": [],
   "source": [
    "# list the approved models\n",
    "good_models = []\n",
    "bad_models = []"
   ]
  },
  {
   "cell_type": "code",
   "execution_count": 3,
   "id": "1cedc0d6",
   "metadata": {},
   "outputs": [
    {
     "name": "stdout",
     "output_type": "stream",
     "text": [
      "Fetching domain:\n",
      "          source_id = 'INM-CM5-0'\n",
      "          experiment_id = 'historical'\n",
      "          table_id = '3hr'\n",
      "          lats = (15, 20)\n",
      "          lons = (25, 29)\n",
      "          years = (100, 105)\n",
      "          dataset name: my_ds (xarray Dataset)\n"
     ]
    },
    {
     "name": "stderr",
     "output_type": "stream",
     "text": [
      "/tmp/ipykernel_9366/1278153253.py:1: UserWarning: Boolean Series key will be reindexed to match DataFrame index.\n",
      "  df_in[df_in.variable_id == \"huss\"][df_in.table_id == \"3hr\"]\n"
     ]
    },
    {
     "ename": "IndexError",
     "evalue": "index 0 is out of bounds for axis 0 with size 0",
     "output_type": "error",
     "traceback": [
      "\u001b[0;31m---------------------------------------------------------------------------\u001b[0m",
      "\u001b[0;31mIndexError\u001b[0m                                Traceback (most recent call last)",
      "File \u001b[0;32m/tmp/ipykernel_9366/4084694476.py:3\u001b[0m, in \u001b[0;36m<cell line: 3>\u001b[0;34m()\u001b[0m\n\u001b[1;32m      1\u001b[0m \u001b[38;5;66;03m#fetch_var(source_id, experiment_id, table_id, 'tas')\u001b[39;00m\n\u001b[1;32m      2\u001b[0m \u001b[38;5;66;03m#df_in[df_in.experiment_id == 'piControl'].table_id.unique()\u001b[39;00m\n\u001b[0;32m----> 3\u001b[0m \u001b[43mget_field\u001b[49m\u001b[43m(\u001b[49m\u001b[38;5;124;43m\"\u001b[39;49m\u001b[38;5;124;43mhuss\u001b[39;49m\u001b[38;5;124;43m\"\u001b[39;49m\u001b[43m,\u001b[49m\u001b[43m \u001b[49m\u001b[43mdf_in\u001b[49m\u001b[43m)\u001b[49m\n",
      "File \u001b[0;32m/tmp/ipykernel_9366/2799651473.py:15\u001b[0m, in \u001b[0;36mget_field\u001b[0;34m(variable_id, df, source_id, experiment_id, table_id)\u001b[0m\n\u001b[1;32m     13\u001b[0m local_var \u001b[38;5;241m=\u001b[39m fetch_var_exact(var_dict, df)\n\u001b[1;32m     14\u001b[0m \u001b[38;5;66;03m#try:\u001b[39;00m\n\u001b[0;32m---> 15\u001b[0m zstore_url \u001b[38;5;241m=\u001b[39m \u001b[43mlocal_var\u001b[49m\u001b[43m[\u001b[49m\u001b[38;5;124;43m'\u001b[39;49m\u001b[38;5;124;43mzstore\u001b[39;49m\u001b[38;5;124;43m'\u001b[39;49m\u001b[43m]\u001b[49m\u001b[38;5;241;43m.\u001b[39;49m\u001b[43marray\u001b[49m\u001b[43m[\u001b[49m\u001b[38;5;241;43m0\u001b[39;49m\u001b[43m]\u001b[49m\n\u001b[1;32m     16\u001b[0m \u001b[38;5;66;03m#except:\u001b[39;00m\n\u001b[1;32m     17\u001b[0m \u001b[38;5;66;03m#    zstore_url = local_var['zstore']\u001b[39;00m\n\u001b[1;32m     18\u001b[0m \u001b[38;5;66;03m#finally:\u001b[39;00m\n\u001b[1;32m     19\u001b[0m \u001b[38;5;66;03m#    print(f\"{variable_id} variable not found in {source_id}\")\u001b[39;00m\n\u001b[1;32m     20\u001b[0m the_mapper\u001b[38;5;241m=\u001b[39mfsspec\u001b[38;5;241m.\u001b[39mget_mapper(zstore_url)\n",
      "File \u001b[0;32m/srv/conda/envs/notebook/lib/python3.9/site-packages/pandas/core/arrays/_mixins.py:272\u001b[0m, in \u001b[0;36mNDArrayBackedExtensionArray.__getitem__\u001b[0;34m(self, key)\u001b[0m\n\u001b[1;32m    266\u001b[0m \u001b[38;5;28;01mdef\u001b[39;00m \u001b[38;5;21m__getitem__\u001b[39m(\n\u001b[1;32m    267\u001b[0m     \u001b[38;5;28mself\u001b[39m: NDArrayBackedExtensionArrayT,\n\u001b[1;32m    268\u001b[0m     key: PositionalIndexer2D,\n\u001b[1;32m    269\u001b[0m ) \u001b[38;5;241m-\u001b[39m\u001b[38;5;241m>\u001b[39m NDArrayBackedExtensionArrayT \u001b[38;5;241m|\u001b[39m Any:\n\u001b[1;32m    270\u001b[0m     \u001b[38;5;28;01mif\u001b[39;00m lib\u001b[38;5;241m.\u001b[39mis_integer(key):\n\u001b[1;32m    271\u001b[0m         \u001b[38;5;66;03m# fast-path\u001b[39;00m\n\u001b[0;32m--> 272\u001b[0m         result \u001b[38;5;241m=\u001b[39m \u001b[38;5;28;43mself\u001b[39;49m\u001b[38;5;241;43m.\u001b[39;49m\u001b[43m_ndarray\u001b[49m\u001b[43m[\u001b[49m\u001b[43mkey\u001b[49m\u001b[43m]\u001b[49m\n\u001b[1;32m    273\u001b[0m         \u001b[38;5;28;01mif\u001b[39;00m \u001b[38;5;28mself\u001b[39m\u001b[38;5;241m.\u001b[39mndim \u001b[38;5;241m==\u001b[39m \u001b[38;5;241m1\u001b[39m:\n\u001b[1;32m    274\u001b[0m             \u001b[38;5;28;01mreturn\u001b[39;00m \u001b[38;5;28mself\u001b[39m\u001b[38;5;241m.\u001b[39m_box_func(result)\n",
      "\u001b[0;31mIndexError\u001b[0m: index 0 is out of bounds for axis 0 with size 0"
     ]
    },
    {
     "name": "stdout",
     "output_type": "stream",
     "text": [
      "INM-CM5-0 -- unknown error\n",
      "Fetching domain:\n",
      "          source_id = 'NorESM2-LM'\n",
      "          experiment_id = 'historical'\n",
      "          table_id = '3hr'\n",
      "          lats = (15, 20)\n",
      "          lons = (25, 29)\n",
      "          years = (100, 105)\n",
      "          dataset name: my_ds (xarray Dataset)\n"
     ]
    },
    {
     "name": "stderr",
     "output_type": "stream",
     "text": [
      "/tmp/ipykernel_9366/1278153253.py:1: UserWarning: Boolean Series key will be reindexed to match DataFrame index.\n",
      "  df_in[df_in.variable_id == \"huss\"][df_in.table_id == \"3hr\"]\n"
     ]
    },
    {
     "ename": "IndexError",
     "evalue": "index 0 is out of bounds for axis 0 with size 0",
     "output_type": "error",
     "traceback": [
      "\u001b[0;31m---------------------------------------------------------------------------\u001b[0m",
      "\u001b[0;31mIndexError\u001b[0m                                Traceback (most recent call last)",
      "File \u001b[0;32m/tmp/ipykernel_9366/4084694476.py:3\u001b[0m, in \u001b[0;36m<cell line: 3>\u001b[0;34m()\u001b[0m\n\u001b[1;32m      1\u001b[0m \u001b[38;5;66;03m#fetch_var(source_id, experiment_id, table_id, 'tas')\u001b[39;00m\n\u001b[1;32m      2\u001b[0m \u001b[38;5;66;03m#df_in[df_in.experiment_id == 'piControl'].table_id.unique()\u001b[39;00m\n\u001b[0;32m----> 3\u001b[0m \u001b[43mget_field\u001b[49m\u001b[43m(\u001b[49m\u001b[38;5;124;43m\"\u001b[39;49m\u001b[38;5;124;43mhuss\u001b[39;49m\u001b[38;5;124;43m\"\u001b[39;49m\u001b[43m,\u001b[49m\u001b[43m \u001b[49m\u001b[43mdf_in\u001b[49m\u001b[43m)\u001b[49m\n",
      "File \u001b[0;32m/tmp/ipykernel_9366/2799651473.py:15\u001b[0m, in \u001b[0;36mget_field\u001b[0;34m(variable_id, df, source_id, experiment_id, table_id)\u001b[0m\n\u001b[1;32m     13\u001b[0m local_var \u001b[38;5;241m=\u001b[39m fetch_var_exact(var_dict, df)\n\u001b[1;32m     14\u001b[0m \u001b[38;5;66;03m#try:\u001b[39;00m\n\u001b[0;32m---> 15\u001b[0m zstore_url \u001b[38;5;241m=\u001b[39m \u001b[43mlocal_var\u001b[49m\u001b[43m[\u001b[49m\u001b[38;5;124;43m'\u001b[39;49m\u001b[38;5;124;43mzstore\u001b[39;49m\u001b[38;5;124;43m'\u001b[39;49m\u001b[43m]\u001b[49m\u001b[38;5;241;43m.\u001b[39;49m\u001b[43marray\u001b[49m\u001b[43m[\u001b[49m\u001b[38;5;241;43m0\u001b[39;49m\u001b[43m]\u001b[49m\n\u001b[1;32m     16\u001b[0m \u001b[38;5;66;03m#except:\u001b[39;00m\n\u001b[1;32m     17\u001b[0m \u001b[38;5;66;03m#    zstore_url = local_var['zstore']\u001b[39;00m\n\u001b[1;32m     18\u001b[0m \u001b[38;5;66;03m#finally:\u001b[39;00m\n\u001b[1;32m     19\u001b[0m \u001b[38;5;66;03m#    print(f\"{variable_id} variable not found in {source_id}\")\u001b[39;00m\n\u001b[1;32m     20\u001b[0m the_mapper\u001b[38;5;241m=\u001b[39mfsspec\u001b[38;5;241m.\u001b[39mget_mapper(zstore_url)\n",
      "File \u001b[0;32m/srv/conda/envs/notebook/lib/python3.9/site-packages/pandas/core/arrays/_mixins.py:272\u001b[0m, in \u001b[0;36mNDArrayBackedExtensionArray.__getitem__\u001b[0;34m(self, key)\u001b[0m\n\u001b[1;32m    266\u001b[0m \u001b[38;5;28;01mdef\u001b[39;00m \u001b[38;5;21m__getitem__\u001b[39m(\n\u001b[1;32m    267\u001b[0m     \u001b[38;5;28mself\u001b[39m: NDArrayBackedExtensionArrayT,\n\u001b[1;32m    268\u001b[0m     key: PositionalIndexer2D,\n\u001b[1;32m    269\u001b[0m ) \u001b[38;5;241m-\u001b[39m\u001b[38;5;241m>\u001b[39m NDArrayBackedExtensionArrayT \u001b[38;5;241m|\u001b[39m Any:\n\u001b[1;32m    270\u001b[0m     \u001b[38;5;28;01mif\u001b[39;00m lib\u001b[38;5;241m.\u001b[39mis_integer(key):\n\u001b[1;32m    271\u001b[0m         \u001b[38;5;66;03m# fast-path\u001b[39;00m\n\u001b[0;32m--> 272\u001b[0m         result \u001b[38;5;241m=\u001b[39m \u001b[38;5;28;43mself\u001b[39;49m\u001b[38;5;241;43m.\u001b[39;49m\u001b[43m_ndarray\u001b[49m\u001b[43m[\u001b[49m\u001b[43mkey\u001b[49m\u001b[43m]\u001b[49m\n\u001b[1;32m    273\u001b[0m         \u001b[38;5;28;01mif\u001b[39;00m \u001b[38;5;28mself\u001b[39m\u001b[38;5;241m.\u001b[39mndim \u001b[38;5;241m==\u001b[39m \u001b[38;5;241m1\u001b[39m:\n\u001b[1;32m    274\u001b[0m             \u001b[38;5;28;01mreturn\u001b[39;00m \u001b[38;5;28mself\u001b[39m\u001b[38;5;241m.\u001b[39m_box_func(result)\n",
      "\u001b[0;31mIndexError\u001b[0m: index 0 is out of bounds for axis 0 with size 0"
     ]
    },
    {
     "name": "stdout",
     "output_type": "stream",
     "text": [
      "NorESM2-LM -- unknown error\n",
      "Fetching domain:\n",
      "          source_id = 'GFDL-ESM4'\n",
      "          experiment_id = 'historical'\n",
      "          table_id = '3hr'\n",
      "          lats = (15, 20)\n",
      "          lons = (25, 29)\n",
      "          years = (100, 105)\n",
      "          dataset name: my_ds (xarray Dataset)\n"
     ]
    },
    {
     "name": "stderr",
     "output_type": "stream",
     "text": [
      "/tmp/ipykernel_9366/1278153253.py:1: UserWarning: Boolean Series key will be reindexed to match DataFrame index.\n",
      "  df_in[df_in.variable_id == \"huss\"][df_in.table_id == \"3hr\"]\n"
     ]
    },
    {
     "ename": "IndexError",
     "evalue": "index 0 is out of bounds for axis 0 with size 0",
     "output_type": "error",
     "traceback": [
      "\u001b[0;31m---------------------------------------------------------------------------\u001b[0m",
      "\u001b[0;31mIndexError\u001b[0m                                Traceback (most recent call last)",
      "File \u001b[0;32m/tmp/ipykernel_9366/3345457129.py:2\u001b[0m, in \u001b[0;36m<cell line: 2>\u001b[0;34m()\u001b[0m\n\u001b[1;32m      1\u001b[0m \u001b[38;5;66;03m# grab all fields of interest and combine\u001b[39;00m\n\u001b[0;32m----> 2\u001b[0m my_fields \u001b[38;5;241m=\u001b[39m [get_field(field, df_in) \u001b[38;5;28;01mfor\u001b[39;00m field \u001b[38;5;129;01min\u001b[39;00m required_fields]\n\u001b[1;32m      3\u001b[0m small_fields \u001b[38;5;241m=\u001b[39m [trim_field(field, lats, lons, years) \u001b[38;5;28;01mfor\u001b[39;00m field \u001b[38;5;129;01min\u001b[39;00m my_fields]\n\u001b[1;32m      4\u001b[0m my_ds \u001b[38;5;241m=\u001b[39m xr\u001b[38;5;241m.\u001b[39mcombine_by_coords(small_fields, compat\u001b[38;5;241m=\u001b[39m\u001b[38;5;124m\"\u001b[39m\u001b[38;5;124mbroadcast_equals\u001b[39m\u001b[38;5;124m\"\u001b[39m, combine_attrs\u001b[38;5;241m=\u001b[39m\u001b[38;5;124m\"\u001b[39m\u001b[38;5;124mdrop_conflicts\u001b[39m\u001b[38;5;124m\"\u001b[39m)\n",
      "File \u001b[0;32m/tmp/ipykernel_9366/3345457129.py:2\u001b[0m, in \u001b[0;36m<listcomp>\u001b[0;34m(.0)\u001b[0m\n\u001b[1;32m      1\u001b[0m \u001b[38;5;66;03m# grab all fields of interest and combine\u001b[39;00m\n\u001b[0;32m----> 2\u001b[0m my_fields \u001b[38;5;241m=\u001b[39m [\u001b[43mget_field\u001b[49m\u001b[43m(\u001b[49m\u001b[43mfield\u001b[49m\u001b[43m,\u001b[49m\u001b[43m \u001b[49m\u001b[43mdf_in\u001b[49m\u001b[43m)\u001b[49m \u001b[38;5;28;01mfor\u001b[39;00m field \u001b[38;5;129;01min\u001b[39;00m required_fields]\n\u001b[1;32m      3\u001b[0m small_fields \u001b[38;5;241m=\u001b[39m [trim_field(field, lats, lons, years) \u001b[38;5;28;01mfor\u001b[39;00m field \u001b[38;5;129;01min\u001b[39;00m my_fields]\n\u001b[1;32m      4\u001b[0m my_ds \u001b[38;5;241m=\u001b[39m xr\u001b[38;5;241m.\u001b[39mcombine_by_coords(small_fields, compat\u001b[38;5;241m=\u001b[39m\u001b[38;5;124m\"\u001b[39m\u001b[38;5;124mbroadcast_equals\u001b[39m\u001b[38;5;124m\"\u001b[39m, combine_attrs\u001b[38;5;241m=\u001b[39m\u001b[38;5;124m\"\u001b[39m\u001b[38;5;124mdrop_conflicts\u001b[39m\u001b[38;5;124m\"\u001b[39m)\n",
      "File \u001b[0;32m/tmp/ipykernel_9366/2799651473.py:15\u001b[0m, in \u001b[0;36mget_field\u001b[0;34m(variable_id, df, source_id, experiment_id, table_id)\u001b[0m\n\u001b[1;32m     13\u001b[0m local_var \u001b[38;5;241m=\u001b[39m fetch_var_exact(var_dict, df)\n\u001b[1;32m     14\u001b[0m \u001b[38;5;66;03m#try:\u001b[39;00m\n\u001b[0;32m---> 15\u001b[0m zstore_url \u001b[38;5;241m=\u001b[39m \u001b[43mlocal_var\u001b[49m\u001b[43m[\u001b[49m\u001b[38;5;124;43m'\u001b[39;49m\u001b[38;5;124;43mzstore\u001b[39;49m\u001b[38;5;124;43m'\u001b[39;49m\u001b[43m]\u001b[49m\u001b[38;5;241;43m.\u001b[39;49m\u001b[43marray\u001b[49m\u001b[43m[\u001b[49m\u001b[38;5;241;43m0\u001b[39;49m\u001b[43m]\u001b[49m\n\u001b[1;32m     16\u001b[0m \u001b[38;5;66;03m#except:\u001b[39;00m\n\u001b[1;32m     17\u001b[0m \u001b[38;5;66;03m#    zstore_url = local_var['zstore']\u001b[39;00m\n\u001b[1;32m     18\u001b[0m \u001b[38;5;66;03m#finally:\u001b[39;00m\n\u001b[1;32m     19\u001b[0m \u001b[38;5;66;03m#    print(f\"{variable_id} variable not found in {source_id}\")\u001b[39;00m\n\u001b[1;32m     20\u001b[0m the_mapper\u001b[38;5;241m=\u001b[39mfsspec\u001b[38;5;241m.\u001b[39mget_mapper(zstore_url)\n",
      "File \u001b[0;32m/srv/conda/envs/notebook/lib/python3.9/site-packages/pandas/core/arrays/_mixins.py:272\u001b[0m, in \u001b[0;36mNDArrayBackedExtensionArray.__getitem__\u001b[0;34m(self, key)\u001b[0m\n\u001b[1;32m    266\u001b[0m \u001b[38;5;28;01mdef\u001b[39;00m \u001b[38;5;21m__getitem__\u001b[39m(\n\u001b[1;32m    267\u001b[0m     \u001b[38;5;28mself\u001b[39m: NDArrayBackedExtensionArrayT,\n\u001b[1;32m    268\u001b[0m     key: PositionalIndexer2D,\n\u001b[1;32m    269\u001b[0m ) \u001b[38;5;241m-\u001b[39m\u001b[38;5;241m>\u001b[39m NDArrayBackedExtensionArrayT \u001b[38;5;241m|\u001b[39m Any:\n\u001b[1;32m    270\u001b[0m     \u001b[38;5;28;01mif\u001b[39;00m lib\u001b[38;5;241m.\u001b[39mis_integer(key):\n\u001b[1;32m    271\u001b[0m         \u001b[38;5;66;03m# fast-path\u001b[39;00m\n\u001b[0;32m--> 272\u001b[0m         result \u001b[38;5;241m=\u001b[39m \u001b[38;5;28;43mself\u001b[39;49m\u001b[38;5;241;43m.\u001b[39;49m\u001b[43m_ndarray\u001b[49m\u001b[43m[\u001b[49m\u001b[43mkey\u001b[49m\u001b[43m]\u001b[49m\n\u001b[1;32m    273\u001b[0m         \u001b[38;5;28;01mif\u001b[39;00m \u001b[38;5;28mself\u001b[39m\u001b[38;5;241m.\u001b[39mndim \u001b[38;5;241m==\u001b[39m \u001b[38;5;241m1\u001b[39m:\n\u001b[1;32m    274\u001b[0m             \u001b[38;5;28;01mreturn\u001b[39;00m \u001b[38;5;28mself\u001b[39m\u001b[38;5;241m.\u001b[39m_box_func(result)\n",
      "\u001b[0;31mIndexError\u001b[0m: index 0 is out of bounds for axis 0 with size 0"
     ]
    },
    {
     "name": "stdout",
     "output_type": "stream",
     "text": [
      "GFDL-ESM4 -- unknown error\n",
      "Fetching domain:\n",
      "          source_id = 'MPI-ESM1-2-HR'\n",
      "          experiment_id = 'historical'\n",
      "          table_id = '3hr'\n",
      "          lats = (15, 20)\n",
      "          lons = (25, 29)\n",
      "          years = (100, 105)\n",
      "          dataset name: my_ds (xarray Dataset)\n"
     ]
    },
    {
     "name": "stderr",
     "output_type": "stream",
     "text": [
      "/tmp/ipykernel_9366/1278153253.py:1: UserWarning: Boolean Series key will be reindexed to match DataFrame index.\n",
      "  df_in[df_in.variable_id == \"huss\"][df_in.table_id == \"3hr\"]\n"
     ]
    },
    {
     "ename": "IndexError",
     "evalue": "index 0 is out of bounds for axis 0 with size 0",
     "output_type": "error",
     "traceback": [
      "\u001b[0;31m---------------------------------------------------------------------------\u001b[0m",
      "\u001b[0;31mIndexError\u001b[0m                                Traceback (most recent call last)",
      "File \u001b[0;32m/tmp/ipykernel_9366/3345457129.py:2\u001b[0m, in \u001b[0;36m<cell line: 2>\u001b[0;34m()\u001b[0m\n\u001b[1;32m      1\u001b[0m \u001b[38;5;66;03m# grab all fields of interest and combine\u001b[39;00m\n\u001b[0;32m----> 2\u001b[0m my_fields \u001b[38;5;241m=\u001b[39m [get_field(field, df_in) \u001b[38;5;28;01mfor\u001b[39;00m field \u001b[38;5;129;01min\u001b[39;00m required_fields]\n\u001b[1;32m      3\u001b[0m small_fields \u001b[38;5;241m=\u001b[39m [trim_field(field, lats, lons, years) \u001b[38;5;28;01mfor\u001b[39;00m field \u001b[38;5;129;01min\u001b[39;00m my_fields]\n\u001b[1;32m      4\u001b[0m my_ds \u001b[38;5;241m=\u001b[39m xr\u001b[38;5;241m.\u001b[39mcombine_by_coords(small_fields, compat\u001b[38;5;241m=\u001b[39m\u001b[38;5;124m\"\u001b[39m\u001b[38;5;124mbroadcast_equals\u001b[39m\u001b[38;5;124m\"\u001b[39m, combine_attrs\u001b[38;5;241m=\u001b[39m\u001b[38;5;124m\"\u001b[39m\u001b[38;5;124mdrop_conflicts\u001b[39m\u001b[38;5;124m\"\u001b[39m)\n",
      "File \u001b[0;32m/tmp/ipykernel_9366/3345457129.py:2\u001b[0m, in \u001b[0;36m<listcomp>\u001b[0;34m(.0)\u001b[0m\n\u001b[1;32m      1\u001b[0m \u001b[38;5;66;03m# grab all fields of interest and combine\u001b[39;00m\n\u001b[0;32m----> 2\u001b[0m my_fields \u001b[38;5;241m=\u001b[39m [\u001b[43mget_field\u001b[49m\u001b[43m(\u001b[49m\u001b[43mfield\u001b[49m\u001b[43m,\u001b[49m\u001b[43m \u001b[49m\u001b[43mdf_in\u001b[49m\u001b[43m)\u001b[49m \u001b[38;5;28;01mfor\u001b[39;00m field \u001b[38;5;129;01min\u001b[39;00m required_fields]\n\u001b[1;32m      3\u001b[0m small_fields \u001b[38;5;241m=\u001b[39m [trim_field(field, lats, lons, years) \u001b[38;5;28;01mfor\u001b[39;00m field \u001b[38;5;129;01min\u001b[39;00m my_fields]\n\u001b[1;32m      4\u001b[0m my_ds \u001b[38;5;241m=\u001b[39m xr\u001b[38;5;241m.\u001b[39mcombine_by_coords(small_fields, compat\u001b[38;5;241m=\u001b[39m\u001b[38;5;124m\"\u001b[39m\u001b[38;5;124mbroadcast_equals\u001b[39m\u001b[38;5;124m\"\u001b[39m, combine_attrs\u001b[38;5;241m=\u001b[39m\u001b[38;5;124m\"\u001b[39m\u001b[38;5;124mdrop_conflicts\u001b[39m\u001b[38;5;124m\"\u001b[39m)\n",
      "File \u001b[0;32m/tmp/ipykernel_9366/2799651473.py:15\u001b[0m, in \u001b[0;36mget_field\u001b[0;34m(variable_id, df, source_id, experiment_id, table_id)\u001b[0m\n\u001b[1;32m     13\u001b[0m local_var \u001b[38;5;241m=\u001b[39m fetch_var_exact(var_dict, df)\n\u001b[1;32m     14\u001b[0m \u001b[38;5;66;03m#try:\u001b[39;00m\n\u001b[0;32m---> 15\u001b[0m zstore_url \u001b[38;5;241m=\u001b[39m \u001b[43mlocal_var\u001b[49m\u001b[43m[\u001b[49m\u001b[38;5;124;43m'\u001b[39;49m\u001b[38;5;124;43mzstore\u001b[39;49m\u001b[38;5;124;43m'\u001b[39;49m\u001b[43m]\u001b[49m\u001b[38;5;241;43m.\u001b[39;49m\u001b[43marray\u001b[49m\u001b[43m[\u001b[49m\u001b[38;5;241;43m0\u001b[39;49m\u001b[43m]\u001b[49m\n\u001b[1;32m     16\u001b[0m \u001b[38;5;66;03m#except:\u001b[39;00m\n\u001b[1;32m     17\u001b[0m \u001b[38;5;66;03m#    zstore_url = local_var['zstore']\u001b[39;00m\n\u001b[1;32m     18\u001b[0m \u001b[38;5;66;03m#finally:\u001b[39;00m\n\u001b[1;32m     19\u001b[0m \u001b[38;5;66;03m#    print(f\"{variable_id} variable not found in {source_id}\")\u001b[39;00m\n\u001b[1;32m     20\u001b[0m the_mapper\u001b[38;5;241m=\u001b[39mfsspec\u001b[38;5;241m.\u001b[39mget_mapper(zstore_url)\n",
      "File \u001b[0;32m/srv/conda/envs/notebook/lib/python3.9/site-packages/pandas/core/arrays/_mixins.py:272\u001b[0m, in \u001b[0;36mNDArrayBackedExtensionArray.__getitem__\u001b[0;34m(self, key)\u001b[0m\n\u001b[1;32m    266\u001b[0m \u001b[38;5;28;01mdef\u001b[39;00m \u001b[38;5;21m__getitem__\u001b[39m(\n\u001b[1;32m    267\u001b[0m     \u001b[38;5;28mself\u001b[39m: NDArrayBackedExtensionArrayT,\n\u001b[1;32m    268\u001b[0m     key: PositionalIndexer2D,\n\u001b[1;32m    269\u001b[0m ) \u001b[38;5;241m-\u001b[39m\u001b[38;5;241m>\u001b[39m NDArrayBackedExtensionArrayT \u001b[38;5;241m|\u001b[39m Any:\n\u001b[1;32m    270\u001b[0m     \u001b[38;5;28;01mif\u001b[39;00m lib\u001b[38;5;241m.\u001b[39mis_integer(key):\n\u001b[1;32m    271\u001b[0m         \u001b[38;5;66;03m# fast-path\u001b[39;00m\n\u001b[0;32m--> 272\u001b[0m         result \u001b[38;5;241m=\u001b[39m \u001b[38;5;28;43mself\u001b[39;49m\u001b[38;5;241;43m.\u001b[39;49m\u001b[43m_ndarray\u001b[49m\u001b[43m[\u001b[49m\u001b[43mkey\u001b[49m\u001b[43m]\u001b[49m\n\u001b[1;32m    273\u001b[0m         \u001b[38;5;28;01mif\u001b[39;00m \u001b[38;5;28mself\u001b[39m\u001b[38;5;241m.\u001b[39mndim \u001b[38;5;241m==\u001b[39m \u001b[38;5;241m1\u001b[39m:\n\u001b[1;32m    274\u001b[0m             \u001b[38;5;28;01mreturn\u001b[39;00m \u001b[38;5;28mself\u001b[39m\u001b[38;5;241m.\u001b[39m_box_func(result)\n",
      "\u001b[0;31mIndexError\u001b[0m: index 0 is out of bounds for axis 0 with size 0"
     ]
    },
    {
     "name": "stdout",
     "output_type": "stream",
     "text": [
      "MPI-ESM1-2-HR -- unknown error\n"
     ]
    }
   ],
   "source": [
    "for model in cold_models:\n",
    "    source_id = model\n",
    "    \n",
    "    try:\n",
    "        %run get_domain.ipynb\n",
    "        if success:\n",
    "            good_models.append(model)\n",
    "        else:\n",
    "            bad_models.append(model)\n",
    "    except:\n",
    "        print(f\"{model} -- unknown error\")\n",
    "        bad_models.append(model)"
   ]
  },
  {
   "cell_type": "code",
   "execution_count": 4,
   "id": "30b7f10a",
   "metadata": {},
   "outputs": [
    {
     "name": "stdout",
     "output_type": "stream",
     "text": [
      "working models: []\n",
      "\n",
      "\n",
      "not working models: ['INM-CM5-0', 'NorESM2-LM', 'GFDL-ESM4', 'MPI-ESM1-2-HR']\n"
     ]
    }
   ],
   "source": [
    "print(f\"working models: {good_models}\")\n",
    "print(f\"\\n\\nnot working models: {bad_models}\")"
   ]
  }
 ],
 "metadata": {
  "kernelspec": {
   "display_name": "Python 3 (ipykernel)",
   "language": "python",
   "name": "python3"
  },
  "language_info": {
   "codemirror_mode": {
    "name": "ipython",
    "version": 3
   },
   "file_extension": ".py",
   "mimetype": "text/x-python",
   "name": "python",
   "nbconvert_exporter": "python",
   "pygments_lexer": "ipython3",
   "version": "3.9.10"
  }
 },
 "nbformat": 4,
 "nbformat_minor": 5
}
