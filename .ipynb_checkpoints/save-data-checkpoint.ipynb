{
 "cells": [
  {
   "cell_type": "code",
   "execution_count": null,
   "id": "dc131ea6",
   "metadata": {},
   "outputs": [],
   "source": [
    "import xarray as xr\n",
    "import pooch\n",
    "import pandas as pd\n",
    "import fsspec\n",
    "from pathlib import Path\n",
    "import json\n",
    "import dask"
   ]
  },
  {
   "cell_type": "code",
   "execution_count": null,
   "id": "e48bad04",
   "metadata": {},
   "outputs": [],
   "source": [
    "dask.config.set({\"array.slicing.split_large_chunks\": True})"
   ]
  },
  {
   "cell_type": "code",
   "execution_count": null,
   "id": "c1e981c2",
   "metadata": {},
   "outputs": [],
   "source": [
    "#get esm datastore\n",
    "odie = pooch.create(\n",
    "    # Use the default cache folder for the operating system\n",
    "    path=\"./.cache\",\n",
    "    base_url=\"https://storage.googleapis.com/cmip6/\",\n",
    "    # The registry specifies the files that can be fetched\n",
    "    registry={\n",
    "        \"pangeo-cmip6.csv\": \"e319cd2bf1daf9b5aa531f92c022d5322ee6bce0b566ac81dfae31dbae203fd9\",\n",
    "    },\n",
    ")"
   ]
  },
  {
   "cell_type": "code",
   "execution_count": null,
   "id": "83a02aef",
   "metadata": {
    "lines_to_next_cell": 2
   },
   "outputs": [],
   "source": [
    "file_path = odie.fetch(\"pangeo-cmip6.csv\")\n",
    "df_og = pd.read_csv(file_path)"
   ]
  },
  {
   "cell_type": "code",
   "execution_count": null,
   "id": "b101a066",
   "metadata": {
    "lines_to_next_cell": 2
   },
   "outputs": [],
   "source": [
    "fs = fsspec.filesystem(\"filecache\", target_protocol='gs', target_options={'anon': True}, cache_storage='./.cache/files/')"
   ]
  },
  {
   "cell_type": "code",
   "execution_count": null,
   "id": "55615421",
   "metadata": {},
   "outputs": [],
   "source": [
    "#sea area percentage parameters:\n",
    "lp_var_id = \"sftlf\" #Percentage of the grid cell occupied by land (including lakes) [%]\n",
    "lp_monthly_table = \"fx\" #fixed variables"
   ]
  },
  {
   "cell_type": "code",
   "execution_count": null,
   "id": "fab4c523",
   "metadata": {},
   "outputs": [],
   "source": [
    "#model parameters:\n",
    "var_id = \"cl\"\n",
    "monthly_table = \"Amon\""
   ]
  },
  {
   "cell_type": "code",
   "execution_count": null,
   "id": "f7b0ea52",
   "metadata": {},
   "outputs": [],
   "source": [
    "def save_model(mod_id, exp_id, lev_direction):\n",
    "    if mod_id == \"BCC-ESM1\":\n",
    "        lp_exp_id = \"1pctCO2\"\n",
    "    else:\n",
    "        lp_exp_id = \"piControl\"\n",
    "\n",
    "    model_path = Path('models/'+mod_id+'_'+exp_id+'.zarr')\n",
    "\n",
    "    #get the lats and lons for our data:\n",
    "    query = \"variable_id=='\"+lp_var_id+\"' & experiment_id=='\"+lp_exp_id+\"' & source_id=='\"+mod_id+\"' & table_id=='\"+lp_monthly_table+\"'\"\n",
    "    lp_df = df_og.query(query)\n",
    "    zstore_url = lp_df[\"zstore\"].values[0]\n",
    "    the_mapper=fs.get_mapper(zstore_url)\n",
    "    lp_ds = xr.open_zarr(the_mapper, consolidated=True)\n",
    "    \n",
    "    #Cloud Data\n",
    "    query = \"variable_id=='\"+var_id+\"' & experiment_id=='\"+exp_id+\"' & source_id=='\"+mod_id+\"' & table_id=='\"+monthly_table+\"'\"\n",
    "    cloud_df = df_og.query(query)\n",
    "    zstore_url = cloud_df[\"zstore\"].values[0]\n",
    "    the_mapper=fs.get_mapper(zstore_url)\n",
    "    ds = xr.open_zarr(the_mapper, consolidated=True)\n",
    "    #print(ds.sizes)\n",
    "    lp_ds = lp_ds.reindex_like(ds, method=\"nearest\")\n",
    "    ds_water = ds.where(lp_ds.sftlf == 0.0) #only values over water\n",
    "    #ds_subset = ds_water.where(ds_water.lev*lev_conversion > 0.7, drop=True)\n",
    "    ds_sorted = ds_water.sortby(ds_water.lev, ascending=False) #sort lev in descending order\n",
    "    if lev_direction == \"up\":\n",
    "        ds_subset = ds_sorted.isel(lev=slice(-11, -1)) #select 11 smallest levels\n",
    "    elif lev_direction == \"down\":\n",
    "        ds_subset = ds_sorted.isel(lev=slice(0, 11)) #select 11 largest levels\n",
    "    \n",
    "    ds_subset = ds_subset.sel(lat=slice(21, 47),  #15-40 degrees North latitude \n",
    "                                    lon=slice(200, 243)) #and about 125 to 135 degrees west longitude\n",
    "    if len(ds_subset.time) > 3000:\n",
    "        ds_subset = ds_subset.isel(time=slice(0, 3000)) #250 years, so models starting in 1850 will range 1850-2100\n",
    "\n",
    "    ds_subset.to_zarr(model_path, mode='w')"
   ]
  },
  {
   "cell_type": "code",
   "execution_count": null,
   "id": "d295c374",
   "metadata": {},
   "outputs": [],
   "source": [
    "'''\n",
    "need to fix CESM2 abrupt-4xCO2\n",
    "'''\n",
    "#save_model(\"CanESM5\", \"historical\", 'up')\n",
    "#save_model(\"GISS-E2-1-H\", \"ssp585\", 'down')"
   ]
  },
  {
   "cell_type": "code",
   "execution_count": null,
   "id": "a4368d04",
   "metadata": {},
   "outputs": [],
   "source": [
    "#'''\n",
    "models_json = open('models.json')\n",
    "models_dict = json.load(models_json)"
   ]
  },
  {
   "cell_type": "code",
   "execution_count": null,
   "id": "ec34d5cc",
   "metadata": {},
   "outputs": [],
   "source": [
    "model_list = [\"BCC-ESM1\"]"
   ]
  },
  {
   "cell_type": "code",
   "execution_count": null,
   "id": "b1a54bb3",
   "metadata": {},
   "outputs": [],
   "source": [
    "for model in models_dict['models']:\n",
    "    mod_id = model['mod_id']\n",
    "    if mod_id in model_list:\n",
    "        exp_id_list = model['exp_id']\n",
    "        pos_list = model['positive']\n",
    "        \n",
    "        for i in range(len(exp_id_list)):\n",
    "            print('model: ' + mod_id + \" exp: \" + exp_id_list[i])\n",
    "            save_model(mod_id, exp_id_list[i], pos_list[i])\n",
    "#'''"
   ]
  }
 ],
 "metadata": {
  "jupytext": {
   "cell_metadata_filter": "-all",
   "notebook_metadata_filter": "all,-language_info,-toc,-latex_envs"
  },
  "kernelspec": {
   "display_name": "Python 3 (ipykernel)",
   "language": "python",
   "name": "python3"
  },
  "language_info": {
   "codemirror_mode": {
    "name": "ipython",
    "version": 3
   },
   "file_extension": ".py",
   "mimetype": "text/x-python",
   "name": "python",
   "nbconvert_exporter": "python",
   "pygments_lexer": "ipython3",
   "version": "3.9.10"
  }
 },
 "nbformat": 4,
 "nbformat_minor": 5
}
