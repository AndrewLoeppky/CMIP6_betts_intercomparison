{
 "cells": [
  {
   "cell_type": "markdown",
   "id": "a797b59e",
   "metadata": {},
   "source": [
    "# CMIP Scraping Library\n",
    "\n",
    "Functions for downloading specific fields from CMIP6 model outputs. Turn this into a real library or module later on."
   ]
  },
  {
   "cell_type": "code",
   "execution_count": 1,
   "id": "4e457787",
   "metadata": {},
   "outputs": [],
   "source": [
    "import xarray as xr\n",
    "import pooch\n",
    "import pandas as pd\n",
    "from functools import reduce\n",
    "import fsspec\n",
    "from pathlib import Path\n",
    "import time\n",
    "import numpy as np\n",
    "import json\n",
    "import cftime\n",
    "import matplotlib.pyplot as plt\n",
    "import netCDF4 as nc\n",
    "\n",
    "\n",
    "# Handy metpy tutorial working with xarray:\n",
    "# https://unidata.github.io/MetPy/latest/tutorials/xarray_tutorial.html#sphx-glr-tutorials-xarray-tutorial-py\n",
    "import metpy.calc as mpcalc\n",
    "from metpy.cbook import get_test_data\n",
    "from metpy.units import units\n",
    "from metpy.plots import SkewT"
   ]
  },
  {
   "cell_type": "code",
   "execution_count": 2,
   "id": "1d3644d3",
   "metadata": {},
   "outputs": [],
   "source": [
    "def fetch_var_exact(the_dict,df_og):\n",
    "    \"\"\"\n",
    "    Jamie's code -- fetches variables with precicely defined coordinates \n",
    "    \n",
    "        source_id\n",
    "        table_id\n",
    "        variable_id\n",
    "        \n",
    "    Returns Xarray containing requested variable\n",
    "    \"\"\"\n",
    "    the_keys = list(the_dict.keys())\n",
    "    #print(the_keys)\n",
    "    key0 = the_keys[0]\n",
    "    #print(key0)\n",
    "    #print(the_dict[key0])\n",
    "    hit0 = df_og[key0] == the_dict[key0]\n",
    "    if len(the_keys) > 1:\n",
    "        hitnew = hit0\n",
    "        for key in the_keys[1:]:\n",
    "            hit = df_og[key] == the_dict[key]\n",
    "            hitnew = np.logical_and(hitnew,hit)\n",
    "            #print(\"total hits: \",np.sum(hitnew))\n",
    "    else:\n",
    "        hitnew = hit0\n",
    "    df_result = df_og[hitnew]\n",
    "    return df_result"
   ]
  },
  {
   "cell_type": "code",
   "execution_count": 3,
   "id": "ebb59819",
   "metadata": {},
   "outputs": [
    {
     "ename": "NameError",
     "evalue": "name 'source_id' is not defined",
     "output_type": "error",
     "traceback": [
      "\u001b[0;31m---------------------------------------------------------------------------\u001b[0m",
      "\u001b[0;31mNameError\u001b[0m                                 Traceback (most recent call last)",
      "Input \u001b[0;32mIn [3]\u001b[0m, in \u001b[0;36m<cell line: 3>\u001b[0;34m()\u001b[0m\n\u001b[1;32m      1\u001b[0m \u001b[38;5;28;01mdef\u001b[39;00m \u001b[38;5;21mget_field\u001b[39m(variable_id, \n\u001b[1;32m      2\u001b[0m               df,\n\u001b[0;32m----> 3\u001b[0m               source_id\u001b[38;5;241m=\u001b[39m\u001b[43msource_id\u001b[49m,\n\u001b[1;32m      4\u001b[0m               experiment_id\u001b[38;5;241m=\u001b[39mexperiment_id,\n\u001b[1;32m      5\u001b[0m               table_id\u001b[38;5;241m=\u001b[39mtable_id):\n\u001b[1;32m      6\u001b[0m     \u001b[38;5;124;03m\"\"\"\u001b[39;00m\n\u001b[1;32m      7\u001b[0m \u001b[38;5;124;03m    extracts a single variable field from the model\u001b[39;00m\n\u001b[1;32m      8\u001b[0m \u001b[38;5;124;03m    \"\"\"\u001b[39;00m\n\u001b[1;32m     10\u001b[0m     var_dict \u001b[38;5;241m=\u001b[39m \u001b[38;5;28mdict\u001b[39m(source_id \u001b[38;5;241m=\u001b[39m source_id, variable_id \u001b[38;5;241m=\u001b[39m variable_id,\n\u001b[1;32m     11\u001b[0m                     experiment_id \u001b[38;5;241m=\u001b[39m experiment_id, table_id \u001b[38;5;241m=\u001b[39m table_id)\n",
      "\u001b[0;31mNameError\u001b[0m: name 'source_id' is not defined"
     ]
    }
   ],
   "source": [
    "def get_field(variable_id, \n",
    "              df,\n",
    "              source_id=source_id,\n",
    "              experiment_id=experiment_id,\n",
    "              table_id=table_id):\n",
    "    \"\"\"\n",
    "    extracts a single variable field from the model\n",
    "    \"\"\"\n",
    "\n",
    "    var_dict = dict(source_id = source_id, variable_id = variable_id,\n",
    "                    experiment_id = experiment_id, table_id = table_id)\n",
    "    \n",
    "    local_var = fetch_var_exact(var_dict, df)\n",
    "    #try:\n",
    "    zstore_url = local_var['zstore'].array[0]\n",
    "    #except:\n",
    "    #    zstore_url = local_var['zstore']\n",
    "    #finally:\n",
    "    #    print(f\"{variable_id} variable not found in {source_id}\")\n",
    "    the_mapper=fsspec.get_mapper(zstore_url)\n",
    "    local_var = xr.open_zarr(the_mapper, consolidated=True)\n",
    "    return local_var"
   ]
  },
  {
   "cell_type": "code",
   "execution_count": null,
   "id": "26628a58",
   "metadata": {},
   "outputs": [],
   "source": [
    "def trim_field(df, lat, lon, years):\n",
    "    \"\"\"\n",
    "    cuts out a specified domain from an xarrray field\n",
    "    \n",
    "    lat = (minlat, maxlat)\n",
    "    lon = (minlon, maxlon)\n",
    "    \"\"\"\n",
    "    new_field = df.sel(lat=slice(lat[0],lat[1]), lon=slice(lon[0],lon[1]))\n",
    "    \n",
    "    # handle cftime.DatetimeNoLeap time formatting\n",
    "    if new_field.time.dtype == 'O':\n",
    "        new_field = new_field.isel(time=(new_field.time.dt.year >= years[0]))\n",
    "        #new_field = new_field.isel(time=(new_field.time.dt.year <= years[1]))\n",
    "    \n",
    "    # handle numpy.datetime64[ns] time formatting\n",
    "    elif new_field.time.dtype == '<M8[ns]':\n",
    "        new_field = new_field.isel(time=(pd.to_datetime(df.time).year >= years[0]))\n",
    "        #new_field = new_field.isel(time=(pd.to_datetime(df.time).year < years[1]))\n",
    "        \n",
    "    return new_field"
   ]
  },
  {
   "cell_type": "code",
   "execution_count": 6,
   "id": "e29e3942",
   "metadata": {},
   "outputs": [],
   "source": [
    "def find_models(experiment_id, variables):\n",
    "    \"\"\"\n",
    "    Returns a list of models which contain the requested variables at requested intervals\n",
    "\n",
    "    Parameters\n",
    "    ----------\n",
    "    experiment_id : string\n",
    "        model run selected from the list found here:\n",
    "            https://docs.google.com/document/d/1yUx6jr9EdedCOLd--CPdTfGDwEwzPpCF6p1jRmqx-0Q/edit#    \n",
    "    variables : dict\n",
    "        key value pairs {\"interval\":[\"var1\", \"var2\"]} specifying requested variables at each time interval\n",
    "    \n",
    "    Returns\n",
    "    -------\n",
    "    models : list\n",
    "        the source id's for CMIP6 models which fit the requested criteria. Also prints eligible models\n",
    "        to screen.\n",
    "\n",
    "    Example\n",
    "    -------\n",
    "    In []: find_models(\"piControl\", {\"3hr\":['tas', 'huss'], \"day\":['mrsos']})\n",
    "    \n",
    "    Out []: [GFDL-CM4, GFDL-ESM4]\n",
    "    \"\"\"\n",
    "    # get all the data from google's datastore\n",
    "    odie = pooch.create(\n",
    "        path=\"./.cache\",\n",
    "        base_url=\"https://storage.googleapis.com/cmip6/\",\n",
    "        registry={\n",
    "            \"pangeo-cmip6.csv\": None\n",
    "        },\n",
    "    )\n",
    "    file_path = odie.fetch(\"pangeo-cmip6.csv\")\n",
    "    df_in = pd.read_csv(file_path)\n",
    "    \n",
    "    # select by experiment_id\n",
    "    df_expt = df_in[(df_in.experiment_id == experiment_id)]\n",
    "    \n",
    "    # create a dictionary containing all models that contain req'd variables\n",
    "    # for each interval\n",
    "    models = {}\n",
    "    for key in variables.keys():\n",
    "        df_var = df_expt[df_expt.table_id == key]\n",
    "        df_mods = df_var.groupby(\"source_id\")\n",
    "        models[key] = list(df_mods.groups.keys())\n",
    "        \n",
    "    # return models that have ALL req'd variables\n",
    "    models_pass = list(reduce(lambda i, j: i & j, (set(x) for x in list(models.values()))))\n",
    "    return models_pass    "
   ]
  },
  {
   "cell_type": "code",
   "execution_count": 7,
   "id": "e0d22b03",
   "metadata": {},
   "outputs": [],
   "source": [
    "def download_data(experiment_id, variables, domain, path, download=True):\n",
    "    \"\"\"\n",
    "    Finds model runs that fit specified criteria, selects a domain and saves fields to disk as NETCDF files\n",
    "\n",
    "    Parameters\n",
    "    ----------\n",
    "    experiment_id : string\n",
    "        model run selected from the list found here:\n",
    "            https://docs.google.com/document/d/1yUx6jr9EdedCOLd--CPdTfGDwEwzPpCF6p1jRmqx-0Q/edit#    \n",
    "    variables : dict\n",
    "        key value pairs {\"interval\":[\"var1\", \"var2\"]} specifying requested variables at each time interval\n",
    "    domain : dict \n",
    "        specify lattitude and longitude bounds and time interval. Example for Thompson, MB, Canada from year 1960 to 2016:\n",
    "        \n",
    "        {\"lats\":(51, 57) \n",
    "         \"lons\":(259, 265) \n",
    "         \"years\":(1960, 2015)}\n",
    "        \n",
    "        NOTE: time formatting is inconsistent among models, i.e. some use hours since 01-01-1850 00:00:00, others begin\n",
    "              1960, others begin at arbitrary year zero for spin up...\n",
    "    path : str\n",
    "        location to save netcdf files. e.g. \"../CMIP_data\"\n",
    "    download : bool\n",
    "        set download=False for the first run to ensure all fields are present/correct. Saving to NETCDF can \n",
    "        take a long time, especially for large datasets.\n",
    "    \n",
    "    Returns\n",
    "    -------\n",
    "    None. Prints a message to screen indicating success/failure of each model\n",
    "    \"\"\"\n",
    "    models_to_use = find_models(experiment_id, variables)\n",
    "    return models_to_use"
   ]
  },
  {
   "cell_type": "code",
   "execution_count": 9,
   "id": "e1a55db9",
   "metadata": {},
   "outputs": [
    {
     "data": {
      "text/plain": [
       "['GFDL-CM4', 'GFDL-ESM4', 'IPSL-CM6A-LR']"
      ]
     },
     "execution_count": 9,
     "metadata": {},
     "output_type": "execute_result"
    }
   ],
   "source": [
    "download_data(\"piControl\", {\"3hr\":['tas', 'huss'], \"day\":['mrsos']})"
   ]
  }
 ],
 "metadata": {
  "kernelspec": {
   "display_name": "Python 3 (ipykernel)",
   "language": "python",
   "name": "python3"
  },
  "language_info": {
   "codemirror_mode": {
    "name": "ipython",
    "version": 3
   },
   "file_extension": ".py",
   "mimetype": "text/x-python",
   "name": "python",
   "nbconvert_exporter": "python",
   "pygments_lexer": "ipython3",
   "version": "3.9.10"
  }
 },
 "nbformat": 4,
 "nbformat_minor": 5
}
