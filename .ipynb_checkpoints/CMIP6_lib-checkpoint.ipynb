{
 "cells": [
  {
   "cell_type": "markdown",
   "id": "a797b59e",
   "metadata": {},
   "source": [
    "# CMIP Scraping Library\n",
    "\n",
    "Functions for downloading specific fields from CMIP6 model outputs. Turn this into a real library or module later on."
   ]
  },
  {
   "cell_type": "code",
   "execution_count": 9,
   "id": "4e457787",
   "metadata": {},
   "outputs": [],
   "source": [
    "import xarray as xr\n",
    "import pooch\n",
    "import pandas as pd\n",
    "import fsspec\n",
    "from pathlib import Path\n",
    "import time\n",
    "import numpy as np\n",
    "import json\n",
    "import cftime\n",
    "import matplotlib.pyplot as plt\n",
    "import netCDF4 as nc\n",
    "\n",
    "\n",
    "# Handy metpy tutorial working with xarray:\n",
    "# https://unidata.github.io/MetPy/latest/tutorials/xarray_tutorial.html#sphx-glr-tutorials-xarray-tutorial-py\n",
    "import metpy.calc as mpcalc\n",
    "from metpy.cbook import get_test_data\n",
    "from metpy.units import units\n",
    "from metpy.plots import SkewT"
   ]
  },
  {
   "cell_type": "code",
   "execution_count": 10,
   "id": "1d3644d3",
   "metadata": {},
   "outputs": [],
   "source": [
    "def fetch_var_exact(the_dict,df_og):\n",
    "    \"\"\"\n",
    "    Jamie's code -- fetches variables with precicely defined coordinates \n",
    "    \n",
    "        source_id\n",
    "        table_id\n",
    "        variable_id\n",
    "        \n",
    "    Returns Xarray containing requested variable\n",
    "    \"\"\"\n",
    "    the_keys = list(the_dict.keys())\n",
    "    #print(the_keys)\n",
    "    key0 = the_keys[0]\n",
    "    #print(key0)\n",
    "    #print(the_dict[key0])\n",
    "    hit0 = df_og[key0] == the_dict[key0]\n",
    "    if len(the_keys) > 1:\n",
    "        hitnew = hit0\n",
    "        for key in the_keys[1:]:\n",
    "            hit = df_og[key] == the_dict[key]\n",
    "            hitnew = np.logical_and(hitnew,hit)\n",
    "            #print(\"total hits: \",np.sum(hitnew))\n",
    "    else:\n",
    "        hitnew = hit0\n",
    "    df_result = df_og[hitnew]\n",
    "    return df_result"
   ]
  },
  {
   "cell_type": "code",
   "execution_count": 13,
   "id": "ebb59819",
   "metadata": {},
   "outputs": [
    {
     "ename": "NameError",
     "evalue": "name 'source_id' is not defined",
     "output_type": "error",
     "traceback": [
      "\u001b[0;31m---------------------------------------------------------------------------\u001b[0m",
      "\u001b[0;31mNameError\u001b[0m                                 Traceback (most recent call last)",
      "Input \u001b[0;32mIn [13]\u001b[0m, in \u001b[0;36m<cell line: 3>\u001b[0;34m()\u001b[0m\n\u001b[1;32m      1\u001b[0m \u001b[38;5;28;01mdef\u001b[39;00m \u001b[38;5;21mget_field\u001b[39m(variable_id, \n\u001b[1;32m      2\u001b[0m               df,\n\u001b[0;32m----> 3\u001b[0m               source_id\u001b[38;5;241m=\u001b[39m\u001b[43msource_id\u001b[49m,\n\u001b[1;32m      4\u001b[0m               experiment_id\u001b[38;5;241m=\u001b[39mexperiment_id,\n\u001b[1;32m      5\u001b[0m               table_id\u001b[38;5;241m=\u001b[39mtable_id):\n\u001b[1;32m      6\u001b[0m     \u001b[38;5;124;03m\"\"\"\u001b[39;00m\n\u001b[1;32m      7\u001b[0m \u001b[38;5;124;03m    extracts a single variable field from the model\u001b[39;00m\n\u001b[1;32m      8\u001b[0m \u001b[38;5;124;03m    \"\"\"\u001b[39;00m\n\u001b[1;32m     10\u001b[0m     var_dict \u001b[38;5;241m=\u001b[39m \u001b[38;5;28mdict\u001b[39m(source_id \u001b[38;5;241m=\u001b[39m source_id, variable_id \u001b[38;5;241m=\u001b[39m variable_id,\n\u001b[1;32m     11\u001b[0m                     experiment_id \u001b[38;5;241m=\u001b[39m experiment_id, table_id \u001b[38;5;241m=\u001b[39m table_id)\n",
      "\u001b[0;31mNameError\u001b[0m: name 'source_id' is not defined"
     ]
    }
   ],
   "source": [
    "def get_field(variable_id, \n",
    "              df,\n",
    "              source_id=source_id,\n",
    "              experiment_id=experiment_id,\n",
    "              table_id=table_id):\n",
    "    \"\"\"\n",
    "    extracts a single variable field from the model\n",
    "    \"\"\"\n",
    "\n",
    "    var_dict = dict(source_id = source_id, variable_id = variable_id,\n",
    "                    experiment_id = experiment_id, table_id = table_id)\n",
    "    \n",
    "    local_var = fetch_var_exact(var_dict, df)\n",
    "    #try:\n",
    "    zstore_url = local_var['zstore'].array[0]\n",
    "    #except:\n",
    "    #    zstore_url = local_var['zstore']\n",
    "    #finally:\n",
    "    #    print(f\"{variable_id} variable not found in {source_id}\")\n",
    "    the_mapper=fsspec.get_mapper(zstore_url)\n",
    "    local_var = xr.open_zarr(the_mapper, consolidated=True)\n",
    "    return local_var"
   ]
  },
  {
   "cell_type": "code",
   "execution_count": 17,
   "id": "26628a58",
   "metadata": {},
   "outputs": [],
   "source": [
    "def trim_field(df, lat, lon, years):\n",
    "    \"\"\"\n",
    "    cuts out a specified domain from an xarrray field\n",
    "    \n",
    "    lat = (minlat, maxlat)\n",
    "    lon = (minlon, maxlon)\n",
    "    \"\"\"\n",
    "    new_field = df.sel(lat=slice(lat[0],lat[1]), lon=slice(lon[0],lon[1]))\n",
    "    \n",
    "    # handle cftime.DatetimeNoLeap time formatting\n",
    "    if new_field.time.dtype == 'O':\n",
    "        new_field = new_field.isel(time=(new_field.time.dt.year >= years[0]))\n",
    "        #new_field = new_field.isel(time=(new_field.time.dt.year <= years[1]))\n",
    "    \n",
    "    # handle numpy.datetime64[ns] time formatting\n",
    "    elif new_field.time.dtype == '<M8[ns]':\n",
    "        new_field = new_field.isel(time=(pd.to_datetime(df.time).year >= years[0]))\n",
    "        #new_field = new_field.isel(time=(pd.to_datetime(df.time).year < years[1]))\n",
    "        \n",
    "    return new_field"
   ]
  }
 ],
 "metadata": {
  "kernelspec": {
   "display_name": "Python 3 (ipykernel)",
   "language": "python",
   "name": "python3"
  },
  "language_info": {
   "codemirror_mode": {
    "name": "ipython",
    "version": 3
   },
   "file_extension": ".py",
   "mimetype": "text/x-python",
   "name": "python",
   "nbconvert_exporter": "python",
   "pygments_lexer": "ipython3",
   "version": "3.9.10"
  }
 },
 "nbformat": 4,
 "nbformat_minor": 5
}
