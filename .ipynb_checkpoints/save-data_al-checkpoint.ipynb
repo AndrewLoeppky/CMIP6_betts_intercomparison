{
 "cells": [
  {
   "cell_type": "markdown",
   "id": "ea858e4b",
   "metadata": {},
   "source": [
    "https://docs.google.com/document/d/1yUx6jr9EdedCOLd--CPdTfGDwEwzPpCF6p1jRmqx-0Q/edit#\n",
    "\n",
    "https://towardsdatascience.com/a-quick-introduction-to-cmip6-e017127a49d3\n",
    "\n",
    "https://pcmdi.llnl.gov/CMIP6/Guide/dataUsers.html\n",
    "\n",
    "http://proj.badc.rl.ac.uk/svn/exarch/CMIP6dreq/tags/latest/dreqPy/docs/CMIP6_MIP_tables.xlsx\n",
    "\n",
    "https://esgf-node.llnl.gov/search/cmip6/"
   ]
  },
  {
   "cell_type": "code",
   "execution_count": null,
   "id": "82e193b4",
   "metadata": {},
   "outputs": [],
   "source": [
    "import xarray as xr\n",
    "import pooch\n",
    "import pandas as pd\n",
    "import fsspec\n",
    "from pathlib import Path\n",
    "import time\n",
    "import numpy as np\n",
    "import json"
   ]
  },
  {
   "cell_type": "code",
   "execution_count": null,
   "id": "e5efa5d7",
   "metadata": {},
   "outputs": [],
   "source": [
    "#get esm datastore\n",
    "odie = pooch.create(\n",
    "    path=\"./.cache\",\n",
    "    base_url=\"https://storage.googleapis.com/cmip6/\",\n",
    "    registry={\n",
    "        \"pangeo-cmip6.csv\": \"e319cd2bf1daf9b5aa531f92c022d5322ee6bce0b566ac81dfae31dbae203fd9\"\n",
    "    },\n",
    ")"
   ]
  },
  {
   "cell_type": "code",
   "execution_count": null,
   "id": "7d47c165",
   "metadata": {},
   "outputs": [],
   "source": [
    "file_path = odie.fetch(\"pangeo-cmip6.csv\")\n",
    "df_og = pd.read_csv(file_path)"
   ]
  },
  {
   "cell_type": "code",
   "execution_count": null,
   "id": "f5a7bb2b",
   "metadata": {},
   "outputs": [],
   "source": [
    "df_og.columns"
   ]
  },
  {
   "cell_type": "code",
   "execution_count": null,
   "id": "0f78a930",
   "metadata": {},
   "outputs": [],
   "source": [
    "the_dict = dict(source_id = 'GFDL-ESM4',variable_id = 'ps',\n",
    "                experiment_id = 'piControl', table_id = 'Amon')\n",
    "\n",
    "def fetch_var_approx(the_dict,df_og):\n",
    "    the_keys = list(the_dict.keys())\n",
    "    print(the_keys)\n",
    "    key0 = the_keys[0]\n",
    "    print(key0)\n",
    "    print(the_dict[key0])\n",
    "    hit0 = df_og[key0].str.find(the_dict[key0]) > -1\n",
    "    if len(the_keys) > 1:\n",
    "        hitnew = hit0\n",
    "        for key in the_keys[1:]:\n",
    "            hit = df_og[key].str.find(the_dict[key]) > -1\n",
    "            hitnew = np.logical_and(hitnew,hit)\n",
    "            print(np.sum(hitnew))\n",
    "    else:\n",
    "        hitnew = hit0\n",
    "    df_result = df_og[hitnew]\n",
    "    return df_result\n",
    "\n",
    "def fetch_var_exact(the_dict,df_og):\n",
    "    the_keys = list(the_dict.keys())\n",
    "    print(the_keys)\n",
    "    key0 = the_keys[0]\n",
    "    print(key0)\n",
    "    print(the_dict[key0])\n",
    "    hit0 = df_og[key0] == the_dict[key0]\n",
    "    if len(the_keys) > 1:\n",
    "        hitnew = hit0\n",
    "        for key in the_keys[1:]:\n",
    "            hit = df_og[key] == the_dict[key]\n",
    "            hitnew = np.logical_and(hitnew,hit)\n",
    "            print(\"total hits: \",np.sum(hitnew))\n",
    "    else:\n",
    "        hitnew = hit0\n",
    "    df_result = df_og[hitnew]\n",
    "    return df_result\n",
    "        \n",
    "    \n",
    "out_df = fetch_var_exact(the_dict,df_og)\n",
    "zstore_url = out_df['zstore'].array[0]\n",
    "out_df.head()"
   ]
  },
  {
   "cell_type": "code",
   "execution_count": null,
   "id": "b2e0cc7d",
   "metadata": {},
   "outputs": [],
   "source": [
    "fs = fsspec.filesystem(\"filecache\", target_protocol='gs', target_options={'anon': True}, cache_storage='/tmp/files/')"
   ]
  },
  {
   "cell_type": "code",
   "execution_count": null,
   "id": "c211c8f5",
   "metadata": {},
   "outputs": [],
   "source": [
    "help(fs)"
   ]
  },
  {
   "cell_type": "code",
   "execution_count": null,
   "id": "8eb7821a",
   "metadata": {},
   "outputs": [],
   "source": [
    "dir(fs)"
   ]
  },
  {
   "cell_type": "code",
   "execution_count": null,
   "id": "b0f3f7b3",
   "metadata": {},
   "outputs": [],
   "source": [
    "the_dict = dict(source_id = 'GFDL-ESM4',variable_id = 'ps',\n",
    "                experiment_id = 'piControl', table_id = 'Amon')\n",
    "out_df = fetch_var_exact(the_dict,df_og)\n",
    "zstore_url_ps = out_df['zstore'].array[0]"
   ]
  },
  {
   "cell_type": "code",
   "execution_count": null,
   "id": "76c94a00",
   "metadata": {},
   "outputs": [],
   "source": [
    "the_dict = dict(source_id = 'GFDL-ESM4',variable_id = 'cl',\n",
    "                experiment_id = 'piControl', table_id = 'Amon')\n",
    "out_df = fetch_var_exact(the_dict,df_og)\n",
    "zstore_url_cl = out_df['zstore'].array[0]"
   ]
  },
  {
   "cell_type": "code",
   "execution_count": null,
   "id": "e1d11e51",
   "metadata": {},
   "outputs": [],
   "source": [
    "the_mapper = fs.get_mapper(zstore_url)\n",
    "ds = xr.open_zarr(the_mapper, consolidated=True)\n",
    "ds.variables['ps']"
   ]
  },
  {
   "cell_type": "code",
   "execution_count": null,
   "id": "241615c8",
   "metadata": {},
   "outputs": [],
   "source": [
    "the_dict = dict(source_id = 'GFDL-ESM4',variable_id = 'cl',\n",
    "                experiment_id = 'piControl', table_id = 'Amon')\n",
    "out_df = fetch_var_exact(the_dict,df_og)\n",
    "zstore_url_cl = out_df['zstore'].array[0]"
   ]
  },
  {
   "cell_type": "code",
   "execution_count": null,
   "id": "72515e75",
   "metadata": {},
   "outputs": [],
   "source": [
    "the_mapper = fs.get_mapper(zstore_url_cl)\n",
    "ds = xr.open_zarr(the_mapper, consolidated=True)\n",
    "ds"
   ]
  },
  {
   "cell_type": "code",
   "execution_count": null,
   "id": "84c499f9",
   "metadata": {},
   "outputs": [],
   "source": [
    "11*6000*4.*1.e-6"
   ]
  },
  {
   "cell_type": "code",
   "execution_count": null,
   "id": "1e0e2232",
   "metadata": {},
   "outputs": [],
   "source": [
    "print(ds.coords['lev'])\n",
    "ds = ds.sel(lat=slice(32, 46))\n",
    "ds = ds.sel(lon=slice(200, 243))\n",
    "print(f\"\\n\\n{ds=}\\n\\n\")\n",
    "the_cl = ds[\"cl\"]\n",
    "print(f\"\\n\\n{the_cl=}\\n\\n\")\n",
    "spatial_mean = ds.mean(dim=[\"lat\", \"lon\", \"lev\"])\n",
    "print(f\"\\n\\n{spatial_mean=}\\n\\ntype(spatial_mean)\\n\\n\")\n",
    "times = spatial_mean.indexes[\"time\"]\n",
    "cloud_cover = spatial_mean['cl']\n",
    "print(f\"{time.time() - t0} elapsed 1\")\n",
    "ds_cloud_cover = cloud_cover.to_dataset()\n",
    "# ds_cloud_cover.to_netcdf(outfile)\n",
    "test = cloud_cover[...]\n",
    "print(f\"\\n\\n{test=},\\n{type(test)=}\\n\\n\")\n",
    "print(f\"\\n\\n{cloud_cover=}\\n\\n\")\n",
    "#print(cloud_cover)\n",
    "t1 = time.time()\n",
    "print(t1-t0);"
   ]
  },
  {
   "cell_type": "code",
   "execution_count": null,
   "id": "cb83a9c4",
   "metadata": {},
   "outputs": [],
   "source": []
  }
 ],
 "metadata": {
  "jupytext": {
   "cell_metadata_filter": "-all",
   "notebook_metadata_filter": "all,-language_info,-toc,-latex_envs",
   "text_representation": {
    "extension": ".md",
    "format_name": "myst",
    "format_version": 0.13,
    "jupytext_version": "1.10.3"
   }
  },
  "kernelspec": {
   "display_name": "Python 3 (ipykernel)",
   "language": "python",
   "name": "python3"
  },
  "language_info": {
   "codemirror_mode": {
    "name": "ipython",
    "version": 3
   },
   "file_extension": ".py",
   "mimetype": "text/x-python",
   "name": "python",
   "nbconvert_exporter": "python",
   "pygments_lexer": "ipython3",
   "version": "3.8.10"
  }
 },
 "nbformat": 4,
 "nbformat_minor": 5
}
