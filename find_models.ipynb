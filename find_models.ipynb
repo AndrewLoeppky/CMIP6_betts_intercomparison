{
 "cells": [
  {
   "cell_type": "markdown",
   "id": "58c5c5be",
   "metadata": {},
   "source": [
    "# Find Models\n",
    "\n",
    "This notebook searches the pangeo CMIP6 google cloud data and generates a list of fields from which we can generate figures 10 and 11 from Betts' paper. \n",
    "\n",
    "**Fig 10**\n",
    "\n",
    "Looking for 3hrly or better surface temp and humidity (`tas, huss`) and daily or better soil moisture in the top layer (`mrsos`)\n",
    "\n",
    "**Fig 11**\n",
    "\n",
    "Looking for sensible and latent heat fluxes (`?, ?`) and precipitation rate (`?`)\n",
    "\n",
    "**Fig 16**\n",
    "\n",
    "Looking for precip, evap total column water, and omega\n",
    "\n",
    "## Useful Docs\n",
    "\n",
    "https://docs.google.com/document/d/1yUx6jr9EdedCOLd--CPdTfGDwEwzPpCF6p1jRmqx-0Q/edit#\n",
    "\n",
    "https://agupubs.onlinelibrary.wiley.com/doi/epdf/10.3894/JAMES.2009.1.4\n",
    "\n",
    "https://www.carbonbrief.org/cmip6-the-next-generation-of-climate-models-explained"
   ]
  },
  {
   "cell_type": "code",
   "execution_count": 1,
   "id": "fc65ccf1",
   "metadata": {},
   "outputs": [],
   "source": [
    "import xarray as xr\n",
    "import pooch\n",
    "import pandas as pd\n",
    "import fsspec\n",
    "from pathlib import Path\n",
    "import time\n",
    "import numpy as np\n",
    "import json\n",
    "import cftime\n",
    "import matplotlib.pyplot as plt\n",
    "import netCDF4 as nc\n",
    "from cftime import date2num\n",
    "\n",
    "\n",
    "# Handy metpy tutorial working with xarray:\n",
    "# https://unidata.github.io/MetPy/latest/tutorials/xarray_tutorial.html#sphx-glr-tutorials-xarray-tutorial-py\n",
    "import metpy.calc as mpcalc\n",
    "from metpy.cbook import get_test_data\n",
    "from metpy.units import units\n",
    "from metpy.plots import SkewT"
   ]
  },
  {
   "cell_type": "code",
   "execution_count": 2,
   "id": "1d26ff96",
   "metadata": {},
   "outputs": [],
   "source": [
    "# get all the data from google's datastore\n",
    "odie = pooch.create(\n",
    "    path=\"./.cache\",\n",
    "    base_url=\"https://storage.googleapis.com/cmip6/\",\n",
    "    registry={\n",
    "        \"pangeo-cmip6.csv\": None\n",
    "    },\n",
    ")\n",
    "file_path = odie.fetch(\"pangeo-cmip6.csv\")\n",
    "df_in = pd.read_csv(file_path)"
   ]
  },
  {
   "cell_type": "code",
   "execution_count": 3,
   "id": "6444534e",
   "metadata": {},
   "outputs": [],
   "source": [
    "# only want table id \"piControl\" or \"historical\"\n",
    "df_expt = df_in[(df_in.experiment_id == \"historical\")]# | (df_in.experiment_id == \"historical\")]"
   ]
  },
  {
   "cell_type": "markdown",
   "id": "49b936aa",
   "metadata": {},
   "source": [
    "## Figure 10 Models"
   ]
  },
  {
   "cell_type": "code",
   "execution_count": 4,
   "id": "cceb2088",
   "metadata": {},
   "outputs": [],
   "source": [
    "# we only want 3hr data or less for temp and humidity, daily or better for soil moisture\n",
    "df_3hr = df_expt[(df_expt.table_id == \"3hr\") | (df_expt.table_id == \"CF3hr\")]\n",
    "df_day = df_expt[(df_expt.table_id == \"day\")]"
   ]
  },
  {
   "cell_type": "code",
   "execution_count": 5,
   "id": "752be6de",
   "metadata": {},
   "outputs": [],
   "source": [
    "models_3h = df_3hr.groupby(\"source_id\")\n",
    "models_day = df_day.groupby(\"source_id\")"
   ]
  },
  {
   "cell_type": "code",
   "execution_count": 6,
   "id": "2086d475",
   "metadata": {},
   "outputs": [],
   "source": [
    "# variables required to create figure 10\n",
    "fig10_vars = ['tas', 'huss']\n",
    "\n",
    "# most models have air temperature and humidity, need to get soil moisture from daily data\n",
    "fig10_soil_vars = ['mrsos'] \n",
    "\n",
    "# which models are able to produce figure 10?\n",
    "fig10_models_3hr = []\n",
    "fig10_models_day = []\n",
    "\n",
    "for model in models_3h.groups.keys():\n",
    "    the_model = models_3h.get_group(model)\n",
    "    model_vars = list(the_model.variable_id)\n",
    "    if all(i in model_vars for i in fig10_vars) == True:\n",
    "        fig10_models_3hr.append(model)\n",
    "        \n",
    "for model in models_day.groups.keys():\n",
    "    the_model = models_day.get_group(model)\n",
    "    model_vars = list(the_model.variable_id)\n",
    "    if all(i in model_vars for i in fig10_soil_vars) == True:\n",
    "        fig10_models_day.append(model)"
   ]
  },
  {
   "cell_type": "code",
   "execution_count": 7,
   "id": "d991dc97",
   "metadata": {},
   "outputs": [
    {
     "name": "stdout",
     "output_type": "stream",
     "text": [
      "models to use for figure 10\n",
      "========================================\n",
      "ACCESS-CM2\n",
      "ACCESS-ESM1-5\n",
      "AWI-ESM-1-1-LR\n",
      "BCC-CSM2-MR\n",
      "CMCC-CM2-SR5\n",
      "CMCC-ESM2\n",
      "CNRM-CM6-1\n",
      "CNRM-CM6-1-HR\n",
      "CNRM-ESM2-1\n",
      "CanESM5\n",
      "EC-Earth3\n",
      "EC-Earth3-AerChem\n",
      "EC-Earth3-Veg-LR\n",
      "GFDL-CM4\n",
      "HadGEM3-GC31-LL\n",
      "KACE-1-0-G\n",
      "MIROC-ES2L\n",
      "MIROC6\n",
      "MPI-ESM-1-2-HAM\n",
      "MPI-ESM1-2-HR\n",
      "MPI-ESM1-2-LR\n",
      "MRI-ESM2-0\n",
      "SAM0-UNICON\n",
      "\n",
      "\n",
      "models to reject\n",
      "========================================\n",
      "BCC-ESM1\n",
      "CAS-ESM2-0\n",
      "CESM2\n",
      "CMCC-CM2-HR4\n",
      "EC-Earth3-CC\n",
      "IITM-ESM\n",
      "INM-CM4-8\n",
      "INM-CM5-0\n",
      "IPSL-CM5A2-INCA\n",
      "IPSL-CM6A-LR\n",
      "IPSL-CM6A-LR-INCA\n",
      "NorESM2-LM\n",
      "NorESM2-MM\n",
      "UKESM1-0-LL\n"
     ]
    }
   ],
   "source": [
    "# models that contain 3hrly temp and humidity, and daily soil moisture\n",
    "fig10_models = []\n",
    "print(\"models to use for figure 10\")\n",
    "print(\"=\" *40)\n",
    "for model in fig10_models_day:\n",
    "    if model in fig10_models_3hr:\n",
    "        fig10_models.append(model)\n",
    "        print(model)\n",
    "\n",
    "\n",
    "print(\"\\n\\nmodels to reject\")\n",
    "print(\"=\" *40)\n",
    "for model in fig10_models_day:\n",
    "    if model not in fig10_models_3hr:\n",
    "        print(model)"
   ]
  },
  {
   "cell_type": "markdown",
   "id": "01d6ca8e",
   "metadata": {},
   "source": [
    "## Figure 11 Models"
   ]
  },
  {
   "cell_type": "code",
   "execution_count": 8,
   "id": "7501df4c",
   "metadata": {},
   "outputs": [],
   "source": [
    "fig11_vars = ['tas', 'huss']\n",
    "fig11_day_vars = [\"pr\", 'hfls', 'hfss']\n",
    "\n",
    "\n",
    "# which models are able to produce figure 11?\n",
    "fig11_models_3hr = []\n",
    "fig11_models_day = []\n",
    "\n",
    "for model in models_3h.groups.keys():\n",
    "    the_model = models_3h.get_group(model)\n",
    "    model_vars = list(the_model.variable_id)\n",
    "    if all(i in model_vars for i in fig11_vars) == True:\n",
    "        fig11_models_3hr.append(model)\n",
    "        \n",
    "for model in models_day.groups.keys():\n",
    "    the_model = models_day.get_group(model)\n",
    "    model_vars = list(the_model.variable_id)\n",
    "    if all(i in model_vars for i in fig11_day_vars) == True:\n",
    "        fig11_models_day.append(model)"
   ]
  },
  {
   "cell_type": "code",
   "execution_count": 9,
   "id": "08a4b5ce",
   "metadata": {},
   "outputs": [
    {
     "name": "stdout",
     "output_type": "stream",
     "text": [
      "models to use for figure 11\n",
      "========================================\n",
      "ACCESS-CM2\n",
      "ACCESS-ESM1-5\n",
      "AWI-ESM-1-1-LR\n",
      "BCC-CSM2-MR\n",
      "CMCC-CM2-SR5\n",
      "CMCC-ESM2\n",
      "CNRM-CM6-1\n",
      "CNRM-CM6-1-HR\n",
      "CNRM-ESM2-1\n",
      "CanESM5\n",
      "EC-Earth3\n",
      "EC-Earth3-AerChem\n",
      "EC-Earth3-Veg\n",
      "EC-Earth3-Veg-LR\n",
      "GFDL-CM4\n",
      "HadGEM3-GC31-LL\n",
      "HadGEM3-GC31-MM\n",
      "KACE-1-0-G\n",
      "MPI-ESM-1-2-HAM\n",
      "MPI-ESM1-2-HR\n",
      "MPI-ESM1-2-LR\n",
      "TaiESM1\n",
      "\n",
      "\n",
      "models to reject\n",
      "========================================\n",
      "BCC-ESM1\n",
      "CAMS-CSM1-0\n",
      "CESM2\n",
      "CESM2-FV2\n",
      "CESM2-WACCM\n",
      "CMCC-CM2-HR4\n",
      "EC-Earth3-CC\n",
      "IITM-ESM\n",
      "INM-CM4-8\n",
      "INM-CM5-0\n",
      "IPSL-CM6A-LR\n",
      "IPSL-CM6A-LR-INCA\n",
      "NorCPM1\n",
      "NorESM2-LM\n",
      "NorESM2-MM\n",
      "UKESM1-0-LL\n"
     ]
    }
   ],
   "source": [
    "# models that contain 3hrly temp and humidity, and daily soil moisture\n",
    "fig11_models = []\n",
    "print(\"models to use for figure 11\")\n",
    "print(\"=\" *40)\n",
    "for model in fig11_models_day:\n",
    "    if model in fig11_models_3hr:\n",
    "        fig11_models.append(model)\n",
    "        print(model)\n",
    "\n",
    "\n",
    "print(\"\\n\\nmodels to reject\")\n",
    "print(\"=\" *40)\n",
    "for model in fig11_models_day:\n",
    "    if model not in fig11_models_3hr:\n",
    "        print(model)"
   ]
  }
 ],
 "metadata": {
  "kernelspec": {
   "display_name": "Python 3 (ipykernel)",
   "language": "python",
   "name": "python3"
  },
  "language_info": {
   "codemirror_mode": {
    "name": "ipython",
    "version": 3
   },
   "file_extension": ".py",
   "mimetype": "text/x-python",
   "name": "python",
   "nbconvert_exporter": "python",
   "pygments_lexer": "ipython3",
   "version": "3.9.10"
  }
 },
 "nbformat": 4,
 "nbformat_minor": 5
}
