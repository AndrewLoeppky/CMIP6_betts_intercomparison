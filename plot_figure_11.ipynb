{
 "cells": [
  {
   "cell_type": "markdown",
   "id": "d4529a25",
   "metadata": {},
   "source": [
    "# Plot Figure 11"
   ]
  },
  {
   "cell_type": "code",
   "execution_count": null,
   "id": "663cdd46",
   "metadata": {},
   "outputs": [],
   "source": [
    "import xarray as xr\n",
    "import pandas as pd\n",
    "import numpy as np\n",
    "import cftime\n",
    "import matplotlib.pyplot as plt\n",
    "from matplotlib.ticker import (MultipleLocator, AutoMinorLocator)\n",
    "import netCDF4 as nc\n",
    "import os\n",
    "from pathlib import Path\n",
    "\n",
    "# Handy metpy tutorial working with xarray:\n",
    "# https://unidata.github.io/MetPy/latest/tutorials/xarray_tutorial.html#sphx-glr-tutorials-xarray-tutorial-py\n",
    "import metpy.calc as mpcalc\n",
    "from metpy.cbook import get_test_data\n",
    "from metpy.units import units\n",
    "from metpy.plots import SkewT"
   ]
  },
  {
   "cell_type": "code",
   "execution_count": null,
   "id": "a5367f09",
   "metadata": {},
   "outputs": [],
   "source": [
    "file_path = Path(\"data/\")\n",
    "files = list(file_path.glob(\"*fig11*\"))"
   ]
  },
  {
   "cell_type": "code",
   "execution_count": null,
   "id": "9bd82464",
   "metadata": {},
   "outputs": [],
   "source": [
    "ps = 100000 * units.Pa # temporary hack, should interpolate pressure from daily timeseries"
   ]
  },
  {
   "cell_type": "code",
   "execution_count": null,
   "id": "1a4f624d",
   "metadata": {},
   "outputs": [],
   "source": [
    "data = files[3]\n",
    "data_in = xr.open_dataset(data, engine=\"netcdf4\", decode_times=False).metpy.quantify()\n",
    "data_in[\"time\"] = cftime.num2date(data_in.time, \"hours since 1850-01-01 03:00:00\", calendar=\"noleap\", has_year_zero=True)"
   ]
  },
  {
   "cell_type": "code",
   "execution_count": null,
   "id": "9840fe5a",
   "metadata": {},
   "outputs": [],
   "source": [
    "# convert to mm/day and assign units to precip rate (units unspecified in raw data, but CMIP6 specs say its reported in kg/m2/s)\n",
    "# https://docs.google.com/spreadsheets/d/1UUtoz6Ofyjlpx5LdqhKcwHFz2SGoTQV2_yekHyMfL9Y/edit#gid=1221485271\n",
    "data_in[\"pr\"] = data_in.pr * 86400 * units('mm/day')\n",
    "#data_in[\"pr\"] = data_in.pr * units('mm/day')\n",
    "\n",
    "# get dew point temp\n",
    "try:\n",
    "    data_in[\"td\"] = mpcalc.dewpoint_from_specific_humidity(ps, data_in.tas, data_in.huss)\n",
    "except ValueError:\n",
    "    data_in[\"tas\"] = data_in.tas * units.kelvin\n",
    "    data_in[\"td\"] = mpcalc.dewpoint_from_specific_humidity(ps, data_in.tas, data_in.huss)\n",
    "\n",
    "# calculate the evaporative fraction (Betts eq 9)\n",
    "data_in[\"EF\"] = abs(data_in.hfls) / (abs(data_in.hfls) + abs(data_in.hfss))"
   ]
  },
  {
   "cell_type": "code",
   "execution_count": null,
   "id": "77284dca",
   "metadata": {},
   "outputs": [],
   "source": [
    "# compute the spatial average\n",
    "spatial_average = data_in.mean(dim=(\"lat\", \"lon\")).dropna(dim=\"time\")"
   ]
  },
  {
   "cell_type": "code",
   "execution_count": null,
   "id": "0bf35894",
   "metadata": {},
   "outputs": [],
   "source": [
    "# figure to match Betts exactly\n",
    "fig, (ax1, ax2) = plt.subplots(1,2, figsize=(10,5))\n",
    "plt.gca().invert_yaxis()\n",
    "\n",
    "# calculate plcl and add to the dataset\n",
    "plcl, tlcl = mpcalc.lcl(ps, spatial_average.tas, spatial_average.td)\n",
    "\n",
    "\n",
    "spatial_average[\"plcl\"] = [\"time\"], plcl_hpa\n",
    "#spatial_average[\"lcl_dep\"] = ps - spatial_average.plcl\n",
    " \n",
    "light_pr = spatial_average.pr <= 1 * units('mm/day')\n",
    "med1_pr = (1 * units('mm/day') <= spatial_average.pr) | (spatial_average.pr < 3 * units('mm/day'))\n",
    "med2_pr = (3 * units('mm/day') <= spatial_average.pr) | (spatial_average.pr < 5 * units('mm/day'))\n",
    "heavy_pr = (5 * units('mm/day') <= spatial_average.pr)\n",
    "\n",
    "ax1.scatter(spatial_average.mrsos[light_pr], lcl_dep - spatial_average.plcl[light_pr], label=\"PR < 1 mm day$^{-1}$\", alpha=alpha)\n",
    "ax1.scatter(spatial_average.mrsos[med1_pr], lcl_dep - spatial_average.plcl[med1_pr], label=\"1 < PR < 3 mm day$^{-1}$\", alpha=alpha)\n",
    "ax1.scatter(spatial_average.mrsos[med2_pr], lcl_dep - spatial_average.plcl[med2_pr], label=\"3 < PR < 5 mm day$^{-1}$\", alpha=alpha)\n",
    "ax1.scatter(spatial_average.mrsos[heavy_pr], lcl_dep - spatial_average.plcl[heavy_pr], label=\"5 < PR mm day$^{-1}$\", alpha=alpha)\n",
    "\n",
    "ax2.scatter(spatial_average.EF[light_pr], lcl_dep - spatial_average.plcl[light_pr], label=\"PR < 1 mm day$^{-1}$\", alpha=alpha)\n",
    "ax2.scatter(spatial_average.EF[med1_pr], lcl_dep - spatial_average.plcl[med1_pr], label=\"1 < PR < 3 mm day$^{-1}$\", alpha=alpha)\n",
    "ax2.scatter(spatial_average.EF[med2_pr], lcl_dep - spatial_average.plcl[med2_pr], label=\"3 < PR < 5 mm day$^{-1}$\", alpha=alpha)\n",
    "ax2.scatter(spatial_average.EF[heavy_pr], lcl_dep - spatial_average.plcl[heavy_pr], label=\"5 < PR mm day$^{-1}$\", alpha=alpha)\n",
    "\n",
    "ax1.legend(loc='upper right')"
   ]
  },
  {
   "cell_type": "code",
   "execution_count": null,
   "id": "10138a96",
   "metadata": {},
   "outputs": [],
   "source": [
    "# sort the file into 6 groups based on soil moisture content\n",
    "the_max = float(spatial_average.pr.max().values)\n",
    "the_min = float(spatial_average.pr.min().values)\n",
    "the_range =  the_max - the_min\n",
    "\n",
    "spatial_average[\"precip_group\"] = ((spatial_average.pr / (the_range / 5)).round() * (the_range / 5)).round()\n",
    "gbypr = spatial_average.groupby(spatial_average.precip_group)\n",
    "\n",
    "pr_keys = list(gbypr.groups.keys())\n",
    "pr_keys.remove(max(pr_keys))\n",
    "pr_keys.remove(max(pr_keys))\n",
    "\n",
    "fig, (ax1, ax2) = plt.subplots(1,2, figsize=(10,5))\n",
    "\n",
    "for key in pr_keys:\n",
    "    # find and plot the lcl as a function of soil moisture\n",
    "    plcl, tlcl = mpcalc.lcl(ps, gbypr[key].tas, gbypr[key].td)\n",
    "    plcl_hpa = plcl / 100\n",
    "    \n",
    "    ax1.scatter(gbypr[key].mrsos, plcl_hpa, label=f\"{round(key)} mm/day\")\n",
    "    ax2.scatter(gbypr[key].EF, plcl_hpa, label=f\"{round(key)} mm/day\")\n",
    "\n",
    "ax1.legend(loc=\"upper right\")\n",
    "ax1.set_xlabel(\"Upper Soil Water Content (kg/m$^3$)\")\n",
    "ax1.set_ylabel(\"P$_{LCL}$ (hPa)\")\n",
    "ax1.invert_yaxis()\n",
    "\n",
    "ax2.legend(loc=\"upper right\")\n",
    "ax2.set_xlabel(\"Evaporative Fraction\")\n",
    "ax2.set_ylabel(\"P$_{LCL}$ (hPa)\")\n",
    "ax2.invert_yaxis()\n",
    "\n",
    "plt.tight_layout()"
   ]
  }
 ],
 "metadata": {
  "kernelspec": {
   "display_name": "Python 3 (ipykernel)",
   "language": "python",
   "name": "python3"
  },
  "language_info": {
   "codemirror_mode": {
    "name": "ipython",
    "version": 3
   },
   "file_extension": ".py",
   "mimetype": "text/x-python",
   "name": "python",
   "nbconvert_exporter": "python",
   "pygments_lexer": "ipython3",
   "version": "3.9.10"
  }
 },
 "nbformat": 4,
 "nbformat_minor": 5
}
